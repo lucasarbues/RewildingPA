{
 "cells": [
  {
   "cell_type": "markdown",
   "metadata": {},
   "source": [
    "# Estimaciones para la Solucion Automatica y Semi-Automatica."
   ]
  },
  {
   "cell_type": "code",
   "execution_count": 175,
   "metadata": {},
   "outputs": [],
   "source": [
    "import pandas as pd\n",
    "import numpy as np\n",
    "import math"
   ]
  },
  {
   "cell_type": "markdown",
   "metadata": {},
   "source": [
    "## Estimacion de Proporciones:"
   ]
  },
  {
   "cell_type": "code",
   "execution_count": 176,
   "metadata": {},
   "outputs": [],
   "source": [
    "tBase = 118769"
   ]
  },
  {
   "cell_type": "code",
   "execution_count": 177,
   "metadata": {},
   "outputs": [
    {
     "name": "stdout",
     "output_type": "stream",
     "text": [
      "Proporcion de Imagenes con Animales:  31.88 %\n"
     ]
    }
   ],
   "source": [
    "# Proporcion de Imagenes con Animales\n",
    "pAnimal = 0.3188\n",
    "print('Proporcion de Imagenes con Animales: ', round(pAnimal * 100,2), '%')"
   ]
  },
  {
   "cell_type": "code",
   "execution_count": 178,
   "metadata": {},
   "outputs": [
    {
     "name": "stdout",
     "output_type": "stream",
     "text": [
      "Proporcion de Imagenes sin Animales:  68.12 %\n"
     ]
    }
   ],
   "source": [
    "# Proporcion de Imagenes sin Animales\n",
    "pNoAnimal = 1 - pAnimal\n",
    "print('Proporcion de Imagenes sin Animales: ', round(pNoAnimal * 100,2), '%')"
   ]
  },
  {
   "cell_type": "markdown",
   "metadata": {},
   "source": [
    "# Solucion Automatica:"
   ]
  },
  {
   "cell_type": "markdown",
   "metadata": {},
   "source": [
    "## Tiempo Total del Proceso:"
   ]
  },
  {
   "cell_type": "code",
   "execution_count": 179,
   "metadata": {},
   "outputs": [
    {
     "name": "stdout",
     "output_type": "stream",
     "text": [
      "Tiempo de Automatizacion:  0.56 segundos por imagen\n",
      "Tiempo de Automatizacion:  3 jornadas\n"
     ]
    }
   ],
   "source": [
    "# 6480 imagenes por hora\n",
    "tAutom = 60*60/6480\n",
    "TAutom = (tBase * (tAutom))/(60*60)\n",
    "print('Tiempo de Automatizacion: ', round(tAutom,2), 'segundos por imagen')\n",
    "print('Tiempo de Automatizacion: ', math.ceil(TAutom/8), 'jornadas')"
   ]
  },
  {
   "cell_type": "markdown",
   "metadata": {},
   "source": [
    "### Cantidad de Imagenes por Hora:"
   ]
  },
  {
   "cell_type": "markdown",
   "metadata": {},
   "source": [
    "6480 Imagenes por Hora segun Estudios"
   ]
  },
  {
   "cell_type": "code",
   "execution_count": 180,
   "metadata": {},
   "outputs": [
    {
     "name": "stdout",
     "output_type": "stream",
     "text": [
      "Tiempo de Automatizacion:  0.56 segundos\n",
      "Cantidad de Imagenes por Hora:  6480\n"
     ]
    }
   ],
   "source": [
    "print('Tiempo de Automatizacion: ', round(tAutom,2), 'segundos')\n",
    "\n",
    "cHora = 60*60/(tAutom)\n",
    "print('Cantidad de Imagenes por Hora: ', math.ceil(cHora))"
   ]
  },
  {
   "cell_type": "markdown",
   "metadata": {},
   "source": [
    "### Precision de Etiquetado:"
   ]
  },
  {
   "cell_type": "markdown",
   "metadata": {},
   "source": [
    "Segun Estudios:\n",
    "- Error FP: 2.49%\n",
    "- Error FN: 3.8%\n",
    "- Error Especies: 5.1%\n",
    "- Error Cantidades: 36.9%"
   ]
  },
  {
   "cell_type": "code",
   "execution_count": 181,
   "metadata": {},
   "outputs": [
    {
     "name": "stdout",
     "output_type": "stream",
     "text": [
      "Error de Imagenes sin Animales:  1.7 %\n"
     ]
    }
   ],
   "source": [
    "eNoAnimal = (2.49/100)*pNoAnimal\n",
    "print('Error de Imagenes sin Animales: ', round(eNoAnimal * 100,2), '%')"
   ]
  },
  {
   "cell_type": "code",
   "execution_count": 182,
   "metadata": {},
   "outputs": [
    {
     "name": "stdout",
     "output_type": "stream",
     "text": [
      "Error de Imagenes con Animales:  14.6 %\n"
     ]
    }
   ],
   "source": [
    "eAnimal = ((3.8/100)+(5.1/100)+(36.9/100))*pAnimal\n",
    "print('Error de Imagenes con Animales: ', round(eAnimal * 100,2), '%')"
   ]
  },
  {
   "cell_type": "code",
   "execution_count": 183,
   "metadata": {},
   "outputs": [
    {
     "name": "stdout",
     "output_type": "stream",
     "text": [
      "Error Automatico:  16.3 %\n"
     ]
    }
   ],
   "source": [
    "eAutomatico = eNoAnimal + eAnimal\n",
    "print('Error Automatico: ', round(eAutomatico * 100,2), '%')"
   ]
  },
  {
   "cell_type": "code",
   "execution_count": 184,
   "metadata": {},
   "outputs": [
    {
     "name": "stdout",
     "output_type": "stream",
     "text": [
      "Cantidad de Errores:  19357\n"
     ]
    }
   ],
   "source": [
    "cErroresAutom = tBase * eAutomatico\n",
    "print('Cantidad de Errores: ', math.ceil(cErroresAutom))"
   ]
  },
  {
   "cell_type": "markdown",
   "metadata": {},
   "source": [
    "### Costos del Proceso:"
   ]
  },
  {
   "cell_type": "markdown",
   "metadata": {},
   "source": [
    "- Costo Falso Negativo: $300\n",
    "- Costo Falso Positivo: $1000\n",
    "- Costo Error en Especies: $1300\n",
    "- Costo Error en Cantidad: $650"
   ]
  },
  {
   "cell_type": "code",
   "execution_count": 185,
   "metadata": {},
   "outputs": [
    {
     "name": "stdout",
     "output_type": "stream",
     "text": [
      "Costo de Error de Imagenes sin Animales: $ 16.96\n"
     ]
    }
   ],
   "source": [
    "coErrorNoAnimal = pNoAnimal * (2.49/100) * 1000\n",
    "print('Costo de Error de Imagenes sin Animales: $', round(coErrorNoAnimal,2))"
   ]
  },
  {
   "cell_type": "code",
   "execution_count": 186,
   "metadata": {},
   "outputs": [
    {
     "name": "stdout",
     "output_type": "stream",
     "text": [
      "Costo de Error de Imagenes con Animales: $ 101.23\n"
     ]
    }
   ],
   "source": [
    "coErrorAnimal = pAnimal * ((3.8/100) * 300 + (5.1/100) * 1300 + (36.9/100) * 650)\n",
    "print('Costo de Error de Imagenes con Animales: $', round(coErrorAnimal,2))"
   ]
  },
  {
   "cell_type": "code",
   "execution_count": 187,
   "metadata": {},
   "outputs": [
    {
     "name": "stdout",
     "output_type": "stream",
     "text": [
      "Costo de Error Automatico: $ 118.2\n"
     ]
    }
   ],
   "source": [
    "coErrorAutomatico = coErrorNoAnimal + coErrorAnimal\n",
    "print('Costo de Error Automatico: $', round(coErrorAutomatico,2))"
   ]
  },
  {
   "cell_type": "code",
   "execution_count": 188,
   "metadata": {},
   "outputs": [
    {
     "name": "stdout",
     "output_type": "stream",
     "text": [
      "Costo Operacional: $ 0\n"
     ]
    }
   ],
   "source": [
    "coOperacional = 0\n",
    "print('Costo Operacional: $', round(coOperacional,2))"
   ]
  },
  {
   "cell_type": "code",
   "execution_count": 189,
   "metadata": {},
   "outputs": [
    {
     "name": "stdout",
     "output_type": "stream",
     "text": [
      "Costo de Servicio: $ 1100000\n"
     ]
    }
   ],
   "source": [
    "coServicio = 1100000\n",
    "print('Costo de Servicio: $', round(coServicio,2))"
   ]
  },
  {
   "cell_type": "code",
   "execution_count": 190,
   "metadata": {},
   "outputs": [
    {
     "name": "stdout",
     "output_type": "stream",
     "text": [
      "Costo Total: $ 15138118.11\n"
     ]
    }
   ],
   "source": [
    "coTotal = tBase * (coErrorAutomatico + coOperacional) + coServicio\n",
    "print('Costo Total: $', round(coTotal,2))"
   ]
  },
  {
   "cell_type": "code",
   "execution_count": 191,
   "metadata": {},
   "outputs": [
    {
     "name": "stdout",
     "output_type": "stream",
     "text": [
      "Costo por Imagen: $ 127.46\n"
     ]
    }
   ],
   "source": [
    "coImagen = coTotal/tBase\n",
    "print('Costo por Imagen: $', round(coImagen,2))"
   ]
  },
  {
   "cell_type": "markdown",
   "metadata": {},
   "source": [
    "## KPIs"
   ]
  },
  {
   "cell_type": "markdown",
   "metadata": {},
   "source": [
    "### Tiempo Total del Proceso"
   ]
  },
  {
   "cell_type": "code",
   "execution_count": 192,
   "metadata": {},
   "outputs": [
    {
     "name": "stdout",
     "output_type": "stream",
     "text": [
      "Tiempo Total: \n",
      "- Clasificacion Manual: 4.63 segundos por imagen\n",
      "- Solucion Automatica: 0.56 segundos por imagen\n",
      "Variacion Porcentual:  -88.0 %\n"
     ]
    }
   ],
   "source": [
    "print('Tiempo Total: ')\n",
    "print('- Clasificacion Manual: 4.63 segundos por imagen')\n",
    "print('- Solucion Automatica:', round(tAutom,2), 'segundos por imagen')\n",
    "print('Variacion Porcentual: ', round((tAutom - 4.63)/4.63 * 100,2), '%')"
   ]
  },
  {
   "cell_type": "code",
   "execution_count": 193,
   "metadata": {},
   "outputs": [
    {
     "name": "stdout",
     "output_type": "stream",
     "text": [
      "Jornadas Laborales:\n",
      "- Clasificacion Manual: 19.1 jornadas\n",
      "- Solucion Automatica:\n",
      "    - Jornadas Totales:  2.3 jornadas\n",
      "    Variacion Porcentual:  -88.0 %\n"
     ]
    }
   ],
   "source": [
    "print('Jornadas Laborales:')\n",
    "print('- Clasificacion Manual: 19.1 jornadas')\n",
    "print('- Solucion Automatica:')\n",
    "print('    - Jornadas Totales: ', round(TAutom/8,1), 'jornadas')\n",
    "print('    Variacion Porcentual: ', round((TAutom/8 - 19.1)/19.1 * 100,2), '%')"
   ]
  },
  {
   "cell_type": "markdown",
   "metadata": {},
   "source": [
    "### Cantidad de Imagenes Analizadas por Hora:"
   ]
  },
  {
   "cell_type": "code",
   "execution_count": 194,
   "metadata": {},
   "outputs": [
    {
     "name": "stdout",
     "output_type": "stream",
     "text": [
      "Cantidad de Imagenes por Hora: \n",
      "- Clasificacion Manual: 777 imagenes/hr\n",
      "- Solucion Automatica:  6480 imagenes/hr\n",
      "Variacion Porcentual:  733.98 %\n"
     ]
    }
   ],
   "source": [
    "print('Cantidad de Imagenes por Hora: ')\n",
    "print('- Clasificacion Manual: 777 imagenes/hr')\n",
    "print('- Solucion Automatica: ', math.ceil(cHora), 'imagenes/hr')\n",
    "print('Variacion Porcentual: ', round((cHora - 777)/777 * 100,2), '%')"
   ]
  },
  {
   "cell_type": "markdown",
   "metadata": {},
   "source": [
    "### Precision de Etiquetado:"
   ]
  },
  {
   "cell_type": "code",
   "execution_count": 195,
   "metadata": {},
   "outputs": [
    {
     "name": "stdout",
     "output_type": "stream",
     "text": [
      "Tasa de Error: \n",
      "- Clasificacion Manual: 10%\n",
      "- Solucion Automatica:  16.3 %\n",
      "Variacion Porcentual:  62.97 %\n"
     ]
    }
   ],
   "source": [
    "print('Tasa de Error: ')\n",
    "print('- Clasificacion Manual: 10%')\n",
    "print('- Solucion Automatica: ', round(eAutomatico * 100,2), '%')\n",
    "print('Variacion Porcentual: ', round((eAutomatico * 100 - 10)/10 * 100,2), '%')"
   ]
  },
  {
   "cell_type": "code",
   "execution_count": 196,
   "metadata": {},
   "outputs": [
    {
     "name": "stdout",
     "output_type": "stream",
     "text": [
      "Cantidad de Errores: \n",
      "- Clasificacion Manual: 11877 errores\n",
      "- Solucion Automatica:  19357 errores\n",
      "Variacion Porcentual:  62.97 %\n"
     ]
    }
   ],
   "source": [
    "print('Cantidad de Errores: ')\n",
    "print('- Clasificacion Manual: 11877 errores')\n",
    "print('- Solucion Automatica: ', math.ceil(cErroresAutom), 'errores')\n",
    "print('Variacion Porcentual: ', round((cErroresAutom - 11877)/11877 * 100,2), '%')"
   ]
  },
  {
   "cell_type": "markdown",
   "metadata": {},
   "source": [
    "### Costo del Proceso:"
   ]
  },
  {
   "cell_type": "code",
   "execution_count": 197,
   "metadata": {},
   "outputs": [
    {
     "name": "stdout",
     "output_type": "stream",
     "text": [
      "Costo por Imagen:\n",
      "- Clasificacion Manual: $ 56.5\n",
      "- Solucion Automatica: $ 127.46\n",
      "Variacion Porcentual:  125.59 %\n"
     ]
    }
   ],
   "source": [
    "print('Costo por Imagen:')\n",
    "print('- Clasificacion Manual: $ 56.5')\n",
    "print('- Solucion Automatica: $', round(coImagen,2))\n",
    "print('Variacion Porcentual: ', round((coImagen - 56.5)/56.5 * 100,2), '%')"
   ]
  },
  {
   "cell_type": "code",
   "execution_count": 198,
   "metadata": {},
   "outputs": [
    {
     "name": "stdout",
     "output_type": "stream",
     "text": [
      "Costo del Proceso:\n",
      "- Clasificacion Manual: $ 6722325.4\n",
      "- Solucion Automatica: $ 15138118.11\n",
      "Variacion Porcentual:  125.19 %\n"
     ]
    }
   ],
   "source": [
    "print('Costo del Proceso:')\n",
    "print('- Clasificacion Manual: $ 6722325.4')\n",
    "print('- Solucion Automatica: $', round(coTotal,2))\n",
    "print('Variacion Porcentual: ', round((coTotal - 6722325.4)/6722325.4 * 100,2), '%')"
   ]
  },
  {
   "cell_type": "markdown",
   "metadata": {},
   "source": [
    "### Ratio de Imagenes Utiles:"
   ]
  },
  {
   "cell_type": "code",
   "execution_count": 199,
   "metadata": {},
   "outputs": [
    {
     "name": "stdout",
     "output_type": "stream",
     "text": [
      "Ratio de Imagenes Utiles: \n",
      "- Clasificacion Manual: 0.79%\n",
      "- Solucion Automatica: 100%\n",
      "Variacion Porcentual:  12558.23 %\n"
     ]
    }
   ],
   "source": [
    "print('Ratio de Imagenes Utiles: ')\n",
    "print('- Clasificacion Manual: 0.79%')\n",
    "print('- Solucion Automatica: 100%')\n",
    "print('Variacion Porcentual: ', round((100 - 0.79)/0.79 * 100,2), '%')"
   ]
  },
  {
   "cell_type": "code",
   "execution_count": 200,
   "metadata": {},
   "outputs": [],
   "source": [
    "EstimacionAutomatica = [round(tAutom,2), 0, round(TAutom/8,1), math.ceil(cHora), round(eAutomatico * 100,2), math.ceil(cErroresAutom), round(coImagen,2), 100]"
   ]
  },
  {
   "cell_type": "markdown",
   "metadata": {},
   "source": [
    "# Solucion Semi-Automatica:"
   ]
  },
  {
   "cell_type": "markdown",
   "metadata": {},
   "source": [
    "## Tiempo Total del Proceso:"
   ]
  },
  {
   "cell_type": "code",
   "execution_count": 201,
   "metadata": {},
   "outputs": [
    {
     "name": "stdout",
     "output_type": "stream",
     "text": [
      "Tiempo de Automatizacion:  1.45 segundos por imagen\n",
      "Tiempo de Automatizacion:  6 jornadas\n"
     ]
    }
   ],
   "source": [
    "tAutom = 0.1 + 0.07 + pAnimal * (0.07 + 0.4919 * 8)\n",
    "TAutom = (tBase * (tAutom))/(60*60)\n",
    "print('Tiempo de Automatizacion: ', round(tAutom,2), 'segundos por imagen')\n",
    "print('Tiempo de Automatizacion: ', math.ceil(TAutom/8), 'jornadas')"
   ]
  },
  {
   "cell_type": "markdown",
   "metadata": {},
   "source": [
    "### Tiempo de Validacion:"
   ]
  },
  {
   "cell_type": "markdown",
   "metadata": {},
   "source": [
    "El porcantaje de imagenes a validar sobre el total de la base es de:"
   ]
  },
  {
   "cell_type": "code",
   "execution_count": 202,
   "metadata": {},
   "outputs": [
    {
     "name": "stdout",
     "output_type": "stream",
     "text": [
      "Porcentaje de Imagenes a Validar:  28.57 %\n"
     ]
    }
   ],
   "source": [
    "# Porcentaje de Imagenes a Validar:\n",
    "pVal = 0.2857\n",
    "print('Porcentaje de Imagenes a Validar: ', round(pVal * 100,2), '%')"
   ]
  },
  {
   "cell_type": "code",
   "execution_count": 203,
   "metadata": {},
   "outputs": [
    {
     "name": "stdout",
     "output_type": "stream",
     "text": [
      "Tiempo de Validacion:  12.82 horas\n",
      "Tiempo de Validacion:  2 jornadas\n"
     ]
    }
   ],
   "source": [
    "# Tiempo de Validacion:\n",
    "tVal = pVal * 1.36\n",
    "TVal = (tBase * tVal)/(60*60)\n",
    "print('Tiempo de Validacion: ', round(TVal,2), 'horas')\n",
    "print('Tiempo de Validacion: ', math.ceil(TVal/8), 'jornadas')"
   ]
  },
  {
   "cell_type": "markdown",
   "metadata": {},
   "source": [
    "Por lo que el tiempo total del proceso de validacion es de **14.85 horas**  que son equivalentes a **2 jornadas**."
   ]
  },
  {
   "cell_type": "markdown",
   "metadata": {},
   "source": [
    "### Tiempo Total"
   ]
  },
  {
   "cell_type": "markdown",
   "metadata": {},
   "source": [
    "El tiempo total del proceso sera de:"
   ]
  },
  {
   "cell_type": "code",
   "execution_count": 204,
   "metadata": {},
   "outputs": [
    {
     "name": "stdout",
     "output_type": "stream",
     "text": [
      "Tiempo del Proceso:  1.84 segundos por imagen\n",
      "Tiempo del Proceso:  60.55 horas\n",
      "Tiempo del Proceso:  7.57 jornadas\n"
     ]
    }
   ],
   "source": [
    "TTotal = TAutom + TVal\n",
    "tTotal = tAutom + tVal\n",
    "print('Tiempo del Proceso: ', round(tTotal,2), 'segundos por imagen')\n",
    "print('Tiempo del Proceso: ', round(TTotal,2), 'horas')\n",
    "print('Tiempo del Proceso: ', round(TTotal/8,2), 'jornadas')"
   ]
  },
  {
   "cell_type": "markdown",
   "metadata": {},
   "source": [
    "El proceso completo requiere **2.84 jornadas laborales**  (23 horas). Cabe destacar que de estas solo **15 horas requieren atencion humana**"
   ]
  },
  {
   "cell_type": "markdown",
   "metadata": {},
   "source": [
    "### Cantidad de Imagenes por Hora:"
   ]
  },
  {
   "cell_type": "markdown",
   "metadata": {},
   "source": [
    "Para calcular la cantidad de imágenes que se procesaran por hora se tiene en cuenta tanto el tiempo que tarda en procesarlas los modelos predictivos cómo el tiempo que se tarda en validar aquellas que necesiten un refuerzo en su clasificación. "
   ]
  },
  {
   "cell_type": "code",
   "execution_count": 205,
   "metadata": {},
   "outputs": [
    {
     "name": "stdout",
     "output_type": "stream",
     "text": [
      "Tiempo de Automatizacion:  1.45 segundos\n",
      "Cantidad de Imagenes por Hora:  1962\n"
     ]
    }
   ],
   "source": [
    "print('Tiempo de Automatizacion: ', round(tAutom,2), 'segundos')\n",
    "\n",
    "cHora = 60*60/(tAutom + tVal)\n",
    "print('Cantidad de Imagenes por Hora: ', math.ceil(cHora))"
   ]
  },
  {
   "cell_type": "markdown",
   "metadata": {},
   "source": [
    "### Precision de Etiquetado:"
   ]
  },
  {
   "cell_type": "markdown",
   "metadata": {},
   "source": [
    "Se valida el 90% de las imagenes mal etiquetadas. La tasa de error en la validacion es del 5%."
   ]
  },
  {
   "cell_type": "code",
   "execution_count": 206,
   "metadata": {},
   "outputs": [
    {
     "name": "stdout",
     "output_type": "stream",
     "text": [
      "Error Total:  6.13 %\n"
     ]
    }
   ],
   "source": [
    "eErrores = 0.1 * eAutomatico + 0.9 * (5/100)\n",
    "print('Error Total: ', round(eErrores * 100,2), '%')"
   ]
  },
  {
   "cell_type": "code",
   "execution_count": 207,
   "metadata": {},
   "outputs": [
    {
     "name": "stdout",
     "output_type": "stream",
     "text": [
      "Cantidad de Errores:  7281\n"
     ]
    }
   ],
   "source": [
    "cErrores = tBase * eErrores\n",
    "print('Cantidad de Errores: ', math.ceil(cErrores))"
   ]
  },
  {
   "cell_type": "markdown",
   "metadata": {},
   "source": [
    "### Costos del Proceso:"
   ]
  },
  {
   "cell_type": "markdown",
   "metadata": {},
   "source": [
    "Suponiendo que se salva el 98% de los errores cometidos. "
   ]
  },
  {
   "cell_type": "code",
   "execution_count": 208,
   "metadata": {},
   "outputs": [
    {
     "name": "stdout",
     "output_type": "stream",
     "text": [
      "Error Automatico:  2.0 %\n"
     ]
    }
   ],
   "source": [
    "eNoAnimal = 0.015\n",
    "eAnimal =  0.005\n",
    "eAutomatico = eNoAnimal + eAnimal\n",
    "print('Error Automatico: ', round(eAutomatico * 100,2), '%')"
   ]
  },
  {
   "cell_type": "markdown",
   "metadata": {},
   "source": [
    "- Costo Falso Negativo: $300\n",
    "- Costo Falso Positivo: $1000\n",
    "- Costo Error en Especies: $1300\n",
    "- Costo Error en Cantidad: $650"
   ]
  },
  {
   "cell_type": "code",
   "execution_count": 209,
   "metadata": {},
   "outputs": [
    {
     "name": "stdout",
     "output_type": "stream",
     "text": [
      "Costo de Error de Imagenes sin Animales: $ 3.07\n"
     ]
    }
   ],
   "source": [
    "coErrorNoAnimal = pNoAnimal * eNoAnimal * 300\n",
    "print('Costo de Error de Imagenes sin Animales: $', round(coErrorNoAnimal,2))"
   ]
  },
  {
   "cell_type": "code",
   "execution_count": 210,
   "metadata": {},
   "outputs": [
    {
     "name": "stdout",
     "output_type": "stream",
     "text": [
      "Costo de Error de Imagenes con Animales: $ 5.1\n"
     ]
    }
   ],
   "source": [
    "coErrorAnimal = pAnimal * (49.19/100) * ((1.41/100) * 1300 + (41.79/100) * (5.22/100) * 650)\n",
    "print('Costo de Error de Imagenes con Animales: $', round(coErrorAnimal,2))"
   ]
  },
  {
   "cell_type": "code",
   "execution_count": 211,
   "metadata": {},
   "outputs": [
    {
     "name": "stdout",
     "output_type": "stream",
     "text": [
      "Costo de Error Automatico: $ 8.16\n"
     ]
    }
   ],
   "source": [
    "coErrorAutomatico = coErrorNoAnimal + coErrorAnimal\n",
    "print('Costo de Error Automatico: $', round(coErrorAutomatico,2))"
   ]
  },
  {
   "cell_type": "code",
   "execution_count": 212,
   "metadata": {},
   "outputs": [],
   "source": [
    "pValAnimal = 0.8094\n",
    "pValNoAnimal = 0.406"
   ]
  },
  {
   "cell_type": "code",
   "execution_count": 213,
   "metadata": {},
   "outputs": [
    {
     "name": "stdout",
     "output_type": "stream",
     "text": [
      "Costo de Error de Validacion: $ 3.2\n"
     ]
    }
   ],
   "source": [
    "coErrorVal = pAnimal * pValAnimal * ((1.41/100) * 300 + (41.79/100) * (5.22/100) * 650)/2 + pNoAnimal * pValNoAnimal * ((0.6/100)/2) * 1000\n",
    "print('Costo de Error de Validacion: $', round(coErrorVal,2))"
   ]
  },
  {
   "cell_type": "code",
   "execution_count": 214,
   "metadata": {},
   "outputs": [
    {
     "name": "stdout",
     "output_type": "stream",
     "text": [
      "Costo Operacional de Validacion: $ 0.04\n"
     ]
    }
   ],
   "source": [
    "coOperacionalVal = pVal * tVal * 10730/(8*60*60)\n",
    "print('Costo Operacional de Validacion: $', round(coOperacionalVal,2))"
   ]
  },
  {
   "cell_type": "code",
   "execution_count": 215,
   "metadata": {},
   "outputs": [
    {
     "name": "stdout",
     "output_type": "stream",
     "text": [
      "Costo de Servicio: $ 1100000\n"
     ]
    }
   ],
   "source": [
    "coServicio = 1100000\n",
    "print('Costo de Servicio: $', round(coServicio,2))"
   ]
  },
  {
   "cell_type": "code",
   "execution_count": 216,
   "metadata": {},
   "outputs": [
    {
     "name": "stdout",
     "output_type": "stream",
     "text": [
      "Costo Total: $ 2455112.21\n"
     ]
    }
   ],
   "source": [
    "coTotal = tBase * (coErrorAutomatico + coErrorVal + coOperacionalVal) + coServicio\n",
    "print('Costo Total: $', round(coTotal,2))"
   ]
  },
  {
   "cell_type": "code",
   "execution_count": 217,
   "metadata": {},
   "outputs": [
    {
     "name": "stdout",
     "output_type": "stream",
     "text": [
      "Costo por Imagen: $ 20.67\n"
     ]
    }
   ],
   "source": [
    "coImagen = coTotal/tBase\n",
    "print('Costo por Imagen: $', round(coImagen,2))"
   ]
  },
  {
   "cell_type": "markdown",
   "metadata": {},
   "source": [
    "## KPIs"
   ]
  },
  {
   "cell_type": "markdown",
   "metadata": {},
   "source": [
    "### Tiempo Total del Proceso"
   ]
  },
  {
   "cell_type": "code",
   "execution_count": 218,
   "metadata": {},
   "outputs": [
    {
     "name": "stdout",
     "output_type": "stream",
     "text": [
      "Tiempo Total: \n",
      "- Clasificacion Manual: 4.63 segundos por imagen\n",
      "- Solucion Semi-Automatica: 1.45 segundos por imagen\n",
      "Variacion Porcentual:  -68.75 %\n"
     ]
    }
   ],
   "source": [
    "print('Tiempo Total: ')\n",
    "print('- Clasificacion Manual: 4.63 segundos por imagen')\n",
    "print('- Solucion Semi-Automatica:', round(tAutom,2), 'segundos por imagen')\n",
    "print('Variacion Porcentual: ', round((tAutom - 4.63)/4.63 * 100,2), '%')"
   ]
  },
  {
   "cell_type": "code",
   "execution_count": 219,
   "metadata": {},
   "outputs": [
    {
     "name": "stdout",
     "output_type": "stream",
     "text": [
      "Jornadas Laborales:\n",
      "- Clasificacion Manual: 19.1 jornadas\n",
      "- Solucion Semi-Automatica:\n",
      "    - Jornadas Totales:  6.0 jornadas\n",
      "    Variacion Porcentual:  -68.76 %\n"
     ]
    }
   ],
   "source": [
    "print('Jornadas Laborales:')\n",
    "print('- Clasificacion Manual: 19.1 jornadas')\n",
    "print('- Solucion Semi-Automatica:')\n",
    "print('    - Jornadas Totales: ', round(TAutom/8,1), 'jornadas')\n",
    "print('    Variacion Porcentual: ', round((TAutom/8 - 19.1)/19.1 * 100,2), '%')"
   ]
  },
  {
   "cell_type": "markdown",
   "metadata": {},
   "source": [
    "### Cantidad de Imagenes Analizadas por Hora:"
   ]
  },
  {
   "cell_type": "code",
   "execution_count": 220,
   "metadata": {},
   "outputs": [
    {
     "name": "stdout",
     "output_type": "stream",
     "text": [
      "Cantidad de Imagenes por Hora: \n",
      "- Clasificacion Manual: 777 imagenes/hr\n",
      "- Solucion Semi-Automatica:  1962 imagenes/hr\n",
      "Variacion Porcentual:  152.43 %\n"
     ]
    }
   ],
   "source": [
    "print('Cantidad de Imagenes por Hora: ')\n",
    "print('- Clasificacion Manual: 777 imagenes/hr')\n",
    "print('- Solucion Semi-Automatica: ', math.ceil(cHora), 'imagenes/hr')\n",
    "print('Variacion Porcentual: ', round((cHora - 777)/777 * 100,2), '%')"
   ]
  },
  {
   "cell_type": "markdown",
   "metadata": {},
   "source": [
    "### Precision de Etiquetado:"
   ]
  },
  {
   "cell_type": "code",
   "execution_count": 221,
   "metadata": {},
   "outputs": [
    {
     "name": "stdout",
     "output_type": "stream",
     "text": [
      "Tasa de Error: \n",
      "- Clasificacion Manual: 10%\n",
      "- Solucion Semi-Automatica:  6.13 %\n",
      "Variacion Porcentual:  -38.7 %\n"
     ]
    }
   ],
   "source": [
    "print('Tasa de Error: ')\n",
    "print('- Clasificacion Manual: 10%')\n",
    "print('- Solucion Semi-Automatica: ', round(eErrores * 100,2), '%')\n",
    "print('Variacion Porcentual: ', round((eErrores * 100 - 10)/10 * 100,2), '%')"
   ]
  },
  {
   "cell_type": "code",
   "execution_count": 222,
   "metadata": {},
   "outputs": [
    {
     "name": "stdout",
     "output_type": "stream",
     "text": [
      "Cantidad de Errores: \n",
      "- Clasificacion Manual: 11877 errores\n",
      "- Solucion Semi-Automatica:  7281 errores\n",
      "Variacion Porcentual:  -38.7 %\n"
     ]
    }
   ],
   "source": [
    "print('Cantidad de Errores: ')\n",
    "print('- Clasificacion Manual: 11877 errores')\n",
    "print('- Solucion Semi-Automatica: ', math.ceil(cErrores), 'errores')\n",
    "print('Variacion Porcentual: ', round((cErrores - 11877)/11877 * 100,2), '%')"
   ]
  },
  {
   "cell_type": "markdown",
   "metadata": {},
   "source": [
    "### Costo del Proceso:"
   ]
  },
  {
   "cell_type": "code",
   "execution_count": 223,
   "metadata": {},
   "outputs": [
    {
     "name": "stdout",
     "output_type": "stream",
     "text": [
      "Costo por Imagen:\n",
      "- Clasificacion Manual: $ 56.5\n",
      "- Solucion Semi-Automatica: $ 20.67\n",
      "Variacion Porcentual:  -63.41 %\n"
     ]
    }
   ],
   "source": [
    "print('Costo por Imagen:')\n",
    "print('- Clasificacion Manual: $ 56.5')\n",
    "print('- Solucion Semi-Automatica: $', round(coImagen,2))\n",
    "print('Variacion Porcentual: ', round((coImagen - 56.5)/56.5 * 100,2), '%')"
   ]
  },
  {
   "cell_type": "code",
   "execution_count": 224,
   "metadata": {},
   "outputs": [
    {
     "name": "stdout",
     "output_type": "stream",
     "text": [
      "Costo del Proceso:\n",
      "- Clasificacion Manual: $ 6722325.4\n",
      "- Solucion Semi-Automatica: $ 2455112.21\n",
      "Variacion Porcentual:  -63.48 %\n"
     ]
    }
   ],
   "source": [
    "print('Costo del Proceso:')\n",
    "print('- Clasificacion Manual: $ 6722325.4')\n",
    "print('- Solucion Semi-Automatica: $', round(coTotal,2))\n",
    "print('Variacion Porcentual: ', round((coTotal - 6722325.4)/6722325.4 * 100,2), '%')"
   ]
  },
  {
   "cell_type": "markdown",
   "metadata": {},
   "source": [
    "### Ratio de Imagenes Utiles:"
   ]
  },
  {
   "cell_type": "code",
   "execution_count": 225,
   "metadata": {},
   "outputs": [
    {
     "name": "stdout",
     "output_type": "stream",
     "text": [
      "Ratio de Imagenes Utiles: \n",
      "- Clasificacion Manual: 0.79%\n",
      "- Solucion Semi-Automatica: 100%\n",
      "Variacion Porcentual:  12558.23 %\n"
     ]
    }
   ],
   "source": [
    "print('Ratio de Imagenes Utiles: ')\n",
    "print('- Clasificacion Manual: 0.79%')\n",
    "print('- Solucion Semi-Automatica: 100%')\n",
    "print('Variacion Porcentual: ', round((100 - 0.79)/0.79 * 100,2), '%')"
   ]
  },
  {
   "cell_type": "code",
   "execution_count": 226,
   "metadata": {},
   "outputs": [],
   "source": [
    "EstimacionSemiAutomatica = [round(tTotal,2), round(TVal/8,1), round(TTotal/8,1), math.ceil(cHora), round(eErrores * 100,2), math.ceil(cErrores), round(coImagen,2), 100]"
   ]
  },
  {
   "cell_type": "markdown",
   "metadata": {},
   "source": [
    "# Resultados:"
   ]
  },
  {
   "cell_type": "code",
   "execution_count": 227,
   "metadata": {},
   "outputs": [
    {
     "data": {
      "text/html": [
       "<div>\n",
       "<style scoped>\n",
       "    .dataframe tbody tr th:only-of-type {\n",
       "        vertical-align: middle;\n",
       "    }\n",
       "\n",
       "    .dataframe tbody tr th {\n",
       "        vertical-align: top;\n",
       "    }\n",
       "\n",
       "    .dataframe thead th {\n",
       "        text-align: right;\n",
       "    }\n",
       "</style>\n",
       "<table border=\"1\" class=\"dataframe\">\n",
       "  <thead>\n",
       "    <tr style=\"text-align: right;\">\n",
       "      <th></th>\n",
       "      <th>KPI</th>\n",
       "      <th>Clasificacion Manual</th>\n",
       "      <th>Estimacion Automatica</th>\n",
       "      <th>Estimacion Semi-Automatica</th>\n",
       "    </tr>\n",
       "  </thead>\n",
       "  <tbody>\n",
       "    <tr>\n",
       "      <th>0</th>\n",
       "      <td>Segundos por Imagen</td>\n",
       "      <td>4.63</td>\n",
       "      <td>0.56</td>\n",
       "      <td>1.84</td>\n",
       "    </tr>\n",
       "    <tr>\n",
       "      <th>1</th>\n",
       "      <td>Jornadas Ocupadas</td>\n",
       "      <td>19.10</td>\n",
       "      <td>0.00</td>\n",
       "      <td>1.60</td>\n",
       "    </tr>\n",
       "    <tr>\n",
       "      <th>2</th>\n",
       "      <td>Jornadas Totales</td>\n",
       "      <td>19.10</td>\n",
       "      <td>2.30</td>\n",
       "      <td>7.60</td>\n",
       "    </tr>\n",
       "    <tr>\n",
       "      <th>3</th>\n",
       "      <td>Imagenes por Hora</td>\n",
       "      <td>777.00</td>\n",
       "      <td>6480.00</td>\n",
       "      <td>1962.00</td>\n",
       "    </tr>\n",
       "    <tr>\n",
       "      <th>4</th>\n",
       "      <td>Tasa de Error</td>\n",
       "      <td>10.00</td>\n",
       "      <td>16.30</td>\n",
       "      <td>6.13</td>\n",
       "    </tr>\n",
       "    <tr>\n",
       "      <th>5</th>\n",
       "      <td>Cantidad de Errores</td>\n",
       "      <td>11877.00</td>\n",
       "      <td>19357.00</td>\n",
       "      <td>7281.00</td>\n",
       "    </tr>\n",
       "    <tr>\n",
       "      <th>6</th>\n",
       "      <td>Costo por Imagen</td>\n",
       "      <td>56.50</td>\n",
       "      <td>127.46</td>\n",
       "      <td>20.67</td>\n",
       "    </tr>\n",
       "    <tr>\n",
       "      <th>7</th>\n",
       "      <td>Ratio de Imagenes Utiles</td>\n",
       "      <td>0.79</td>\n",
       "      <td>100.00</td>\n",
       "      <td>100.00</td>\n",
       "    </tr>\n",
       "  </tbody>\n",
       "</table>\n",
       "</div>"
      ],
      "text/plain": [
       "                        KPI  Clasificacion Manual  Estimacion Automatica  \\\n",
       "0       Segundos por Imagen                  4.63                   0.56   \n",
       "1         Jornadas Ocupadas                 19.10                   0.00   \n",
       "2          Jornadas Totales                 19.10                   2.30   \n",
       "3         Imagenes por Hora                777.00                6480.00   \n",
       "4             Tasa de Error                 10.00                  16.30   \n",
       "5       Cantidad de Errores              11877.00               19357.00   \n",
       "6          Costo por Imagen                 56.50                 127.46   \n",
       "7  Ratio de Imagenes Utiles                  0.79                 100.00   \n",
       "\n",
       "   Estimacion Semi-Automatica  \n",
       "0                        1.84  \n",
       "1                        1.60  \n",
       "2                        7.60  \n",
       "3                     1962.00  \n",
       "4                        6.13  \n",
       "5                     7281.00  \n",
       "6                       20.67  \n",
       "7                      100.00  "
      ]
     },
     "execution_count": 227,
     "metadata": {},
     "output_type": "execute_result"
    }
   ],
   "source": [
    "# Creación del DataFrame\n",
    "data = {\n",
    "    \"KPI\": [\n",
    "        \"Segundos por Imagen\",\n",
    "        \"Jornadas Ocupadas\",\n",
    "        \"Jornadas Totales\",\n",
    "        \"Imagenes por Hora\",\n",
    "        \"Tasa de Error\",\n",
    "        \"Cantidad de Errores\",\n",
    "        \"Costo por Imagen\",\n",
    "        \"Ratio de Imagenes Utiles\"\n",
    "    ],\n",
    "    \"Clasificacion Manual\": [\n",
    "        4.63, # Tiempo Total\n",
    "        19.1, # Jornadas Ocupadas\n",
    "        19.1, # Jornadas Totales\n",
    "        777, # Imagenes por Hora\n",
    "        10, # Tasa de Error\n",
    "        11877, # Cantidad de Errores\n",
    "        56.5, # Costo del Proceso\n",
    "        0.79 # Ratio de Imagenes Utiles\n",
    "    ],\n",
    "    \"Estimacion Automatica\": EstimacionAutomatica,\n",
    "    \"Estimacion Semi-Automatica\": EstimacionSemiAutomatica,\n",
    "}\n",
    "\n",
    "df = pd.DataFrame(data)\n",
    "# df[\"Variacion Porcentual (%)\"] = round((df[\"Estimacion Semi-Automatica\"] - df[\"Clasificacion Manual\"]) / df[\"Clasificacion Manual\"] * 100, 2)\n",
    "df"
   ]
  },
  {
   "cell_type": "code",
   "execution_count": 228,
   "metadata": {},
   "outputs": [],
   "source": [
    "df.to_csv('resultados.csv', index=False)"
   ]
  }
 ],
 "metadata": {
  "kernelspec": {
   "display_name": "ENV",
   "language": "python",
   "name": "python3"
  },
  "language_info": {
   "codemirror_mode": {
    "name": "ipython",
    "version": 3
   },
   "file_extension": ".py",
   "mimetype": "text/x-python",
   "name": "python",
   "nbconvert_exporter": "python",
   "pygments_lexer": "ipython3",
   "version": "3.9.6"
  }
 },
 "nbformat": 4,
 "nbformat_minor": 2
}
